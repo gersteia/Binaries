{
 "cells": [
  {
   "cell_type": "code",
   "execution_count": 37,
   "id": "f92c7463-3e29-4c82-af60-8e995913d967",
   "metadata": {},
   "outputs": [],
   "source": [
    "from astropy.table import QTable, vstack \n",
    "import os\n",
    "\n",
    "id_num = 2128140253472804736\n",
    "DATA_PATH = os.getenv('DATA_PATH')\n",
    "workpath = f'/{DATA_PATH}/'\n",
    "new_6811 = QTable.read('rcat_ngc6811_v0.fits')\n",
    "new_ids_6811 = new_6811['GAIAEDR3_ID']\n",
    "datamatched6811 = new_6811[id_num == new_ids_6811]\n",
    "matched = vstack([datamatched6811])\n",
    "\n",
    "matched = matched[\"DATE-OBS\",\"vrad\",\"vrad_err\"]\n",
    "\n",
    "matched.write('MWE_RVData.csv', overwrite = True)"
   ]
  },
  {
   "cell_type": "code",
   "execution_count": null,
   "id": "85198184-6ea9-4254-a8e7-55028da30c36",
   "metadata": {},
   "outputs": [],
   "source": []
  }
 ],
 "metadata": {
  "kernelspec": {
   "display_name": "Python 3 (ipykernel)",
   "language": "python",
   "name": "python3"
  },
  "language_info": {
   "codemirror_mode": {
    "name": "ipython",
    "version": 3
   },
   "file_extension": ".py",
   "mimetype": "text/x-python",
   "name": "python",
   "nbconvert_exporter": "python",
   "pygments_lexer": "ipython3",
   "version": "3.9.21"
  }
 },
 "nbformat": 4,
 "nbformat_minor": 5
}
